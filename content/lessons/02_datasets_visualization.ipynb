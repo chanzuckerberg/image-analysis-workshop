{
 "cells": [
  {
   "cell_type": "markdown",
   "metadata": {},
   "source": [
    "# Visualization in python\n",
    "There are several [visualization](https://en.wikipedia.org/wiki/Edge_detection) tools for 3D imagery have been developed with/for Python, for example\n",
    "Matplotlib (Hunter, 2007), Mayavi (Ramachandran & Varoquaux, 2011), the [ipyvolume](https://github.com/maartenbreddels/ipyvolume/), the yt Project\n",
    "(Turk et al., 2010), [ITK](https://itk.org/) (Johnson, McCormick, Ibanez 2015), and more recently [napari](http://napari.org). \n",
    "\n",
    "The 3 main challenges of available tools are: \n",
    "- working with large volumes: image sizes\n",
    "- complexity of APIs: how many lines for simple rendering\n",
    "- compatibility to ipynb as much of the prototyping is within Jupyter notebooks\n",
    "\n",
    "This lesson will illustrate tools that work with large datasets by exploring 3D projections as well as data reduction techniques enabled through `scikit-image` functions. "
   ]
  },
  {
   "cell_type": "code",
   "execution_count": null,
   "metadata": {},
   "outputs": [],
   "source": [
    "import numpy as np\n",
    "import napari\n",
    "from skimage import exposure, io, measure\n",
    "\n",
    "%gui qt"
   ]
  },
  {
   "cell_type": "markdown",
   "metadata": {},
   "source": [
    "Let's read the original image from previous lesson and view it in napari:"
   ]
  },
  {
   "cell_type": "code",
   "execution_count": null,
   "metadata": {},
   "outputs": [],
   "source": [
    "input_filename=\"../data/cells.tif\"\n",
    "orig = io.imread(input_filename)\n",
    "print(orig.shape)"
   ]
  },
  {
   "cell_type": "code",
   "execution_count": null,
   "metadata": {},
   "outputs": [],
   "source": [
    "viewer = napari.view_image(orig, name='orignal')"
   ]
  },
  {
   "cell_type": "markdown",
   "metadata": {},
   "source": [
    "Let's now do some histogram equalization and view the results as a new layer in napari"
   ]
  },
  {
   "cell_type": "code",
   "execution_count": null,
   "metadata": {},
   "outputs": [],
   "source": [
    "equalized = exposure.equalize_hist(orig)\n",
    "print(equalized.shape)"
   ]
  },
  {
   "cell_type": "code",
   "execution_count": null,
   "metadata": {},
   "outputs": [],
   "source": [
    "viewer.add_image(equalized, name='equalized')"
   ]
  },
  {
   "cell_type": "markdown",
   "metadata": {},
   "source": [
    "Let's load and add the segmentation labels as a labels layer in napari"
   ]
  },
  {
   "cell_type": "code",
   "execution_count": null,
   "metadata": {},
   "outputs": [],
   "source": [
    "from skimage.external import tifffile\n",
    "inputfile = '../data/cells_interior_labels.tiff'\n",
    "relabeled = tifffile.imread(inputfile)\n",
    "print(relabeled.shape)"
   ]
  },
  {
   "cell_type": "code",
   "execution_count": null,
   "metadata": {},
   "outputs": [],
   "source": [
    "viewer.add_labels(relabeled, name='labeled')"
   ]
  },
  {
   "cell_type": "markdown",
   "metadata": {},
   "source": [
    "Let's inspect the data that we've added to napari"
   ]
  },
  {
   "cell_type": "code",
   "execution_count": null,
   "metadata": {},
   "outputs": [],
   "source": [
    "viewer.layers"
   ]
  },
  {
   "cell_type": "code",
   "execution_count": null,
   "metadata": {},
   "outputs": [],
   "source": [
    "viewer.layers['equalized'].data"
   ]
  },
  {
   "cell_type": "code",
   "execution_count": null,
   "metadata": {},
   "outputs": [],
   "source": [
    "viewer.layers['equalized'].data = viewer.layers['equalized'].data / 2"
   ]
  },
  {
   "cell_type": "markdown",
   "metadata": {},
   "source": [
    "## Surface of 3D objects\n",
    "`skimage.measure.regionprops` **==>** `skimage.measure.marching_cubes` **==>** `skimage.measure.mesh_surface_area`"
   ]
  },
  {
   "cell_type": "markdown",
   "metadata": {},
   "source": [
    "Perimeter measurements are not computed for 3D objects. The 3D extension of perimeter is surface area. We can measure the surface of an object by generating a surface mesh with \n",
    "- `skimage.measure.marching_cubes` returns 2 arrays: spatial coordinates for V unique mesh vertices and F faces that define triangular faces via referencing vertex indices from V. This algorithm specifically outputs triangles, so each face has exactly three indices.\n",
    "- Marching cubes: extract a polygonal mesh of an isosurface from a three-dimensional discrete scalar field (voxels); basic steps are: divide the input volume into discrete set of cubes; each cube contains a piece of a given isosurface; a triangular mesh approximates the behavior of the trilinear interpolant in the interior cube."
   ]
  },
  {
   "cell_type": "code",
   "execution_count": null,
   "metadata": {},
   "outputs": [],
   "source": [
    "selected_cell = 3\n",
    "\n",
    "regionprops = measure.regionprops(relabeled.astype('int'))\n",
    "# skimage.measure.marching_cubes expects ordering (row, col, pln)\n",
    "volume = (relabeled == regionprops[selected_cell].label).transpose(1, 2, 0)\n",
    "\n",
    "verts, faces, _, values = measure.marching_cubes_lewiner(volume, level=0, spacing=(1.0, 1.0, 1.0))"
   ]
  },
  {
   "cell_type": "markdown",
   "metadata": {},
   "source": [
    "Now we will compute the surface area of the mesh with `skimage.measure.mesh_surface_area`."
   ]
  },
  {
   "cell_type": "code",
   "execution_count": null,
   "metadata": {},
   "outputs": [],
   "source": [
    "surface_area_pixels = measure.mesh_surface_area(verts, faces)\n",
    "print(\"Surface area (total pixels): {:0.2f}\".format(surface_area_pixels))"
   ]
  },
  {
   "cell_type": "code",
   "execution_count": null,
   "metadata": {},
   "outputs": [],
   "source": [
    "viewer.add_surface((verts[:, [2, 0, 1]], faces, np.random.random(len(verts))), name='surface')"
   ]
  },
  {
   "cell_type": "code",
   "execution_count": null,
   "metadata": {},
   "outputs": [],
   "source": [
    "viewer.layers"
   ]
  },
  {
   "cell_type": "markdown",
   "metadata": {},
   "source": [
    "## Looking at max projections"
   ]
  },
  {
   "cell_type": "markdown",
   "metadata": {},
   "source": [
    "Large datasets are a gift and a curse: while high-resolution imaging brings details about microstructures, the file sizes can quickly became an obstacle to analysis, particularly at your laptop. Here are some tips on how to proceed with your first explorations of your imagesets"
   ]
  },
  {
   "cell_type": "code",
   "execution_count": null,
   "metadata": {},
   "outputs": [],
   "source": [
    "max_projection = orig.max(axis=0)\n",
    "max_projection_labeled = relabeled.max(axis=0)"
   ]
  },
  {
   "cell_type": "code",
   "execution_count": null,
   "metadata": {},
   "outputs": [],
   "source": [
    "viewer = napari.view_image(max_projection, name='max projection', title='2d viewer')\n",
    "viewer.add_labels(max_projection_labeled, name='max projection labels')"
   ]
  },
  {
   "cell_type": "markdown",
   "metadata": {},
   "source": [
    "## Visualizing filer results"
   ]
  },
  {
   "cell_type": "code",
   "execution_count": null,
   "metadata": {},
   "outputs": [],
   "source": [
    "from skimage import filters  # skimage's filtering module"
   ]
  },
  {
   "cell_type": "code",
   "execution_count": null,
   "metadata": {},
   "outputs": [],
   "source": [
    "plane_sobel_h = filters.sobel_h(max_projection)  # Horizontal Sobel.\n",
    "plane_sobel_v = filters.sobel_v(max_projection)  # Vertical Sobel.\n",
    "plane_roberts = filters.roberts(max_projection)  # Roberts.\n",
    "plane_prewitt = filters.prewitt(max_projection)  # Prewitt.\n",
    "plane_scharr = filters.scharr(max_projection)  # Scharr."
   ]
  },
  {
   "cell_type": "code",
   "execution_count": null,
   "metadata": {},
   "outputs": [],
   "source": [
    "viewer.add_image(plane_sobel_h, name='Horizontal Sobel')\n",
    "viewer.add_image(plane_sobel_v, name='Vertical Sobel')\n",
    "viewer.add_image(plane_roberts, name='Roberts')\n",
    "viewer.add_image(plane_prewitt, name='Prewitt')\n",
    "viewer.add_image(plane_scharr, name='Scharr')"
   ]
  },
  {
   "cell_type": "markdown",
   "metadata": {},
   "source": [
    "## Interactive segmentation"
   ]
  },
  {
   "cell_type": "code",
   "execution_count": null,
   "metadata": {},
   "outputs": [],
   "source": [
    "from skimage import morphology  # skimage's morphological submodules.\n",
    "from skimage import feature  # skimage's feature submodule.\n",
    "from scipy import ndimage"
   ]
  },
  {
   "cell_type": "markdown",
   "metadata": {},
   "source": [
    "Let's repeat the binarization process and distance calculation that we did at the end of the last lesson"
   ]
  },
  {
   "cell_type": "code",
   "execution_count": null,
   "metadata": {},
   "outputs": [],
   "source": [
    "plane_binary = max_projection >= filters.threshold_li(max_projection)\n",
    "plane_remove_holes = morphology.remove_small_holes(plane_binary, 60)\n",
    "plane_remove_objects = morphology.remove_small_objects(plane_remove_holes, min_size=50)\n",
    "plane_distance = ndimage.distance_transform_edt(plane_remove_objects)"
   ]
  },
  {
   "cell_type": "code",
   "execution_count": null,
   "metadata": {},
   "outputs": [],
   "source": [
    "viewer = napari.view_image(max_projection, name='original', title='segmentation')\n",
    "viewer.add_image(plane_binary, name='binary')\n",
    "viewer.add_image(plane_remove_holes, name='remove holes')\n",
    "viewer.add_image(plane_remove_objects, name='remove objects')\n",
    "viewer.add_image(plane_distance, name='distances')"
   ]
  },
  {
   "cell_type": "markdown",
   "metadata": {},
   "source": [
    "Let's now finish the segmentation as before"
   ]
  },
  {
   "cell_type": "code",
   "execution_count": null,
   "metadata": {},
   "outputs": [],
   "source": [
    "smooth_distance = filters.gaussian(plane_distance, sigma=10)\n",
    "peak_local_max = feature.peak_local_max(\n",
    "    smooth_distance,\n",
    "    footprint=np.ones((7, 7), dtype=np.bool),\n",
    "    indices=False,\n",
    "    labels=measure.label(plane_remove_objects)\n",
    ")\n",
    "peaks = np.nonzero(peak_local_max)\n",
    "\n",
    "plane_markers = measure.label(peak_local_max)\n",
    "\n",
    "plane_labels = morphology.watershed(\n",
    "    -smooth_distance, \n",
    "    plane_markers, \n",
    "    mask=plane_remove_objects\n",
    ")"
   ]
  },
  {
   "cell_type": "code",
   "execution_count": null,
   "metadata": {},
   "outputs": [],
   "source": [
    "viewer.add_image(smooth_distance, name='smooth distances')\n",
    "viewer.add_points(np.array(peaks).T, name='peaks', size=5)\n",
    "viewer.add_labels(plane_labels, name='labels')"
   ]
  },
  {
   "cell_type": "markdown",
   "metadata": {},
   "source": [
    "Now lets update the labeling based on our new points"
   ]
  },
  {
   "cell_type": "code",
   "execution_count": null,
   "metadata": {},
   "outputs": [],
   "source": [
    "def update_labeling(viewer):\n",
    "    viewer.status = 'updating labels'\n",
    "    peak_data = np.round(viewer.layers['peaks'].data).astype(int)\n",
    "    new_peaks = (peak_data.T[0], peak_data.T[1])\n",
    "    peak_local_max = np.zeros(max_projection.shape, dtype=bool)\n",
    "    peak_local_max[new_peaks] = 1\n",
    "    plane_markers = measure.label(peak_local_max)\n",
    "    new_plane_labels = morphology.watershed(\n",
    "        -smooth_distance, \n",
    "        plane_markers, \n",
    "        mask=plane_remove_objects\n",
    "    )\n",
    "    viewer.layers['labels'].data = new_plane_labels"
   ]
  },
  {
   "cell_type": "code",
   "execution_count": null,
   "metadata": {},
   "outputs": [],
   "source": [
    "update_labeling(viewer)"
   ]
  },
  {
   "cell_type": "markdown",
   "metadata": {},
   "source": [
    "Now lets bind this function to a keypress in the viewer"
   ]
  },
  {
   "cell_type": "code",
   "execution_count": null,
   "metadata": {},
   "outputs": [],
   "source": [
    "viewer.bind_key('Control-U', update_labeling)"
   ]
  },
  {
   "cell_type": "markdown",
   "metadata": {},
   "source": [
    "# Going beyond\n",
    "\n",
    "[1] Segmentation of 3-D tomography images with Python: http://emmanuelle.github.io/segmentation-of-3-d-tomography-images-with-python-and-scikit-image.html\n",
    "\n",
    "[2] Image processing with Dask arrays: https://dask-image.readthedocs.io/en/latest/"
   ]
  },
  {
   "cell_type": "code",
   "execution_count": null,
   "metadata": {},
   "outputs": [],
   "source": []
  }
 ],
 "metadata": {
  "kernelspec": {
   "display_name": "Python 3",
   "language": "python",
   "name": "python3"
  },
  "language_info": {
   "codemirror_mode": {
    "name": "ipython",
    "version": 3
   },
   "file_extension": ".py",
   "mimetype": "text/x-python",
   "name": "python",
   "nbconvert_exporter": "python",
   "pygments_lexer": "ipython3",
   "version": "3.7.3"
  }
 },
 "nbformat": 4,
 "nbformat_minor": 2
}
