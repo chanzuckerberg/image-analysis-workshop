{
 "cells": [
  {
   "cell_type": "markdown",
   "metadata": {},
   "source": [
    "# Visualization in python\n",
    "There are several [visualization](https://en.wikipedia.org/wiki/Edge_detection) tools for 3D imagery have been developed with/for Python, for example\n",
    "Matplotlib (Hunter, 2007), Mayavi (Ramachandran & Varoquaux, 2011), the [ipyvolume](https://github.com/maartenbreddels/ipyvolume/), the yt Project\n",
    "(Turk et al., 2010), and [ITK](https://itk.org/) (Johnson, McCormick, Ibanez 2015). \n",
    "\n",
    "The 3 main challenges of available tools are: \n",
    "- working with large volumes: image sizes\n",
    "- complexity of APIs: how many lines for simple rendering\n",
    "- compatibility to ipynb as much of the prototyping is within Jupyter notebooks\n",
    "\n",
    "This lesson will illustrate tools that work with large datasets by exploring 3D projections as well as data reduction techniques enabled through `scikit-image` functions. "
   ]
  },
  {
   "cell_type": "code",
   "execution_count": null,
   "metadata": {},
   "outputs": [],
   "source": [
    "import numpy as np\n",
    "import matplotlib.pyplot as plt\n",
    "\n",
    "#from ipywidgets import interact\n",
    "\n",
    "#from scipy import ndimage as ndi\n",
    "\n",
    "from skimage import exposure, io, measure\n",
    "                   # morphology, restoration, segmentation, transform,\n",
    "                    #util)\n",
    "\n",
    "%matplotlib inline"
   ]
  },
  {
   "cell_type": "markdown",
   "metadata": {},
   "source": [
    "Let's read the original image and the labeled result from previous lesson:"
   ]
  },
  {
   "cell_type": "code",
   "execution_count": null,
   "metadata": {},
   "outputs": [],
   "source": [
    "input_filename=\"data/cells.tif\"\n",
    "orig = io.imread(input_filename)\n",
    "equalized = exposure.equalize_hist(orig)"
   ]
  },
  {
   "cell_type": "code",
   "execution_count": null,
   "metadata": {},
   "outputs": [],
   "source": [
    "from skimage.external import tifffile\n",
    "inputfile = 'data/cells_interior_labels.tiff'\n",
    "relabeled = tifffile.imread(inputfile)"
   ]
  },
  {
   "cell_type": "markdown",
   "metadata": {
    "collapsed": true
   },
   "source": [
    "Let's create a simple visualizer"
   ]
  },
  {
   "cell_type": "code",
   "execution_count": null,
   "metadata": {},
   "outputs": [],
   "source": [
    "import ipywidgets as widgets\n",
    "from IPython.display import display\n",
    "from ipywidgets import interact, interactive, fixed, interact_manual\n",
    "\n",
    "def slicer(z):\n",
    "    plt.imshow(relabeled[z,:,:], cmap='gray')\n",
    "\n",
    "interact(slicer, z=widgets.IntSlider(min=0,max=60,step=1,value=5));"
   ]
  },
  {
   "cell_type": "markdown",
   "metadata": {},
   "source": [
    "Large datasets are a gift and a curse: while high-resolution imaging brings details about microstructures, the file sizes can quickly became an obstacle to analysis, particularly at your laptop. Here are some tips on how to proceed with your first explorations of your imagesets"
   ]
  },
  {
   "cell_type": "code",
   "execution_count": null,
   "metadata": {},
   "outputs": [],
   "source": [
    "# MaxProjection:\n",
    "        \n",
    "IM_MAX = relabeled[0]\n",
    "for n, image in enumerate(relabeled): #ndown here for low variation on Z\n",
    "    IM_MAX = np.maximum(IM_MAX,image)\n",
    "plt.imshow(IM_MAX)"
   ]
  },
  {
   "cell_type": "markdown",
   "metadata": {},
   "source": [
    "## Surface of 3D objects\n",
    "`skimage.measure.regionprops` **==>** `skimage.measure.marching_cubes` **==>** `skimage.measure.mesh_surface_area`"
   ]
  },
  {
   "cell_type": "markdown",
   "metadata": {},
   "source": [
    "Perimeter measurements are not computed for 3D objects. The 3D extension of perimeter is surface area. We can measure the surface of an object by generating a surface mesh with \n",
    "- `skimage.measure.marching_cubes` returns 2 arrays: spatial coordinates for V unique mesh vertices and F faces that define triangular faces via referencing vertex indices from V. This algorithm specifically outputs triangles, so each face has exactly three indices.\n",
    "- Marching cubes: extract a polygonal mesh of an isosurface from a three-dimensional discrete scalar field (voxels); basic steps are: divide the input volume into discrete set of cubes; each cube contains a piece of a given isosurface; a triangular mesh approximates the behavior of the trilinear interpolant in the interior cube."
   ]
  },
  {
   "cell_type": "code",
   "execution_count": null,
   "metadata": {},
   "outputs": [],
   "source": [
    "selected_cell = 3\n",
    "\n",
    "regionprops = measure.regionprops(relabeled.astype('int'))\n",
    "# skimage.measure.marching_cubes expects ordering (row, col, pln)\n",
    "volume = (relabeled == regionprops[selected_cell].label).transpose(1, 2, 0)\n",
    "\n",
    "verts_px, faces_px, _, _ = measure.marching_cubes_lewiner(volume, level=0, spacing=(1.0, 1.0, 1.0))"
   ]
  },
  {
   "cell_type": "markdown",
   "metadata": {},
   "source": [
    "Now we will compute the surface area of the mesh with `skimage.measure.mesh_surface_area`."
   ]
  },
  {
   "cell_type": "code",
   "execution_count": null,
   "metadata": {},
   "outputs": [],
   "source": [
    "surface_area_pixels = measure.mesh_surface_area(verts_px, faces_px)\n",
    "print(\"Surface area (total pixels): {:0.2f}\".format(surface_area_pixels))"
   ]
  },
  {
   "cell_type": "markdown",
   "metadata": {},
   "source": [
    "Remember that the cell data comes from an anisotropic acquisition, then we need to customize spacing:"
   ]
  },
  {
   "cell_type": "code",
   "execution_count": null,
   "metadata": {},
   "outputs": [],
   "source": [
    "# The microscope reports the following spacing:\n",
    "original_spacing = np.array([0.2900000, 0.0650000, 0.0650000])\n",
    "print(f'* Microscope original spacing: {original_spacing}')\n",
    "\n",
    "# We downsampled each slice 4x to make the data smaller\n",
    "rescaled_spacing = original_spacing * [1, 4, 4]\n",
    "print(f'* Microscope after rescaling images: {rescaled_spacing}')\n",
    "\n",
    "# Normalize the spacing so that pixels are a distance of 1 apart\n",
    "spacing = rescaled_spacing / rescaled_spacing[2]\n",
    "print(f'* Microscope normalized spacing: {spacing}')"
   ]
  },
  {
   "cell_type": "code",
   "execution_count": null,
   "metadata": {},
   "outputs": [],
   "source": [
    "verts, faces, _, _ = measure.marching_cubes_lewiner(volume, level=0, spacing=tuple(spacing))\n",
    "surface_area_actual = measure.mesh_surface_area(verts, faces)\n",
    "\n",
    "print(\"Surface area (total pixels): {:0.2f}\".format(surface_area_pixels))\n",
    "print(\"Surface area (actual): {:0.2f}\".format(surface_area_actual))"
   ]
  },
  {
   "cell_type": "code",
   "execution_count": null,
   "metadata": {},
   "outputs": [],
   "source": [
    "plt.plot(verts[:,0],verts[:,1],'b.')"
   ]
  },
  {
   "cell_type": "markdown",
   "metadata": {
    "collapsed": true
   },
   "source": [
    "# MPL_toolkit\n",
    "It ships with Matplotlib and thus may be a lighter weight solution for some use cases. Provide basic 3D plotting of: \n",
    "- scatter, \n",
    "- surf, \n",
    "- line, \n",
    "- mesh\n",
    "\n",
    "Not the fastest or most feature complete 3D library out there. Check out the mplot3d [tutorial](https://matplotlib.org/tutorials/toolkits/mplot3d.html#sphx-glr-tutorials-toolkits-mplot3d-py) for more information. mplot3d supplies an axes object that can create a 2D projection of a 3D scene."
   ]
  },
  {
   "cell_type": "code",
   "execution_count": null,
   "metadata": {},
   "outputs": [],
   "source": [
    "from mpl_toolkits.mplot3d import Axes3D\n",
    "fig = plt.figure()\n",
    "#method for creating a 3D axes object\n",
    "ax = fig.gca(projection='3d')\n",
    "\n",
    "ax.scatter(verts[:,0],verts[:,1],verts[:,2])\n",
    "\n",
    "plt.show()\n"
   ]
  },
  {
   "cell_type": "markdown",
   "metadata": {},
   "source": [
    "## Exercise 1:\n",
    "a) Select a different cell, e.g. selected_cell = 1, and calculate the actual surface area\n",
    "\n",
    "b) explore parameters to improve the scatter plot, e.g., label and colors\n",
    "\n",
    "c) find the largest connected component"
   ]
  },
  {
   "cell_type": "code",
   "execution_count": null,
   "metadata": {},
   "outputs": [],
   "source": [
    "#%load solution/03_solution01_a.py"
   ]
  },
  {
   "cell_type": "code",
   "execution_count": null,
   "metadata": {},
   "outputs": [],
   "source": [
    "#%load solution/03_solution01_b.py"
   ]
  },
  {
   "cell_type": "code",
   "execution_count": null,
   "metadata": {},
   "outputs": [],
   "source": [
    "# %load solution/03_solution01_c.py"
   ]
  },
  {
   "cell_type": "markdown",
   "metadata": {},
   "source": [
    "Is it possible to create a better projection that that? Yes, the volume (polyhedron) can be visualized using the mesh, a set of polygons created by `Poly3DCollection` determined by the vertexes and faces."
   ]
  },
  {
   "cell_type": "code",
   "execution_count": null,
   "metadata": {},
   "outputs": [],
   "source": [
    "from mpl_toolkits.mplot3d.art3d import Poly3DCollection\n",
    "\n",
    "selected_cell = 3\n",
    "fig = plt.figure(figsize=(10, 10))\n",
    "\n",
    "#method for creating a 3D axes object\n",
    "ax = fig.add_subplot(111, projection='3d')\n",
    "\n",
    "mesh = Poly3DCollection(verts_px[faces_px])\n",
    "#makes edges visible\n",
    "mesh.set_edgecolor('black') \n",
    "ax.add_collection3d(mesh)\n",
    "\n",
    "#retrieve spatial coord of selected cell\n",
    "min_pln, min_row, min_col, max_pln, max_row, max_col = regionprops[selected_cell].bbox\n",
    "\n",
    "#requires setting the region of interest\n",
    "ax.set_xlim(min_row, max_row)\n",
    "ax.set_ylim(min_col, max_col)\n",
    "ax.set_zlim(min_pln, max_pln)\n",
    "plt.show()"
   ]
  },
  {
   "cell_type": "markdown",
   "metadata": {},
   "source": [
    "# ITK and ITKwidgets in itkwidgets\n",
    "- VTK is a powerful scientific visualization library with Python bindings, and speedy C++ backend. The library itkwidgets provides interactive ipywidgets to visualize images in 2D and 3D; \n",
    "- ITKwidgets are Jupyter widgets to visualize images, point sets, and meshes;\n",
    "- More at: [[repo]](https://github.com/InsightSoftwareConsortium/itkwidgets) [[examples]](https://itk.org/ITKExamples/src/index.html) [[docs]](https://itkpythonpackage.readthedocs.io/en/latest/Quick_start_guide.html)"
   ]
  },
  {
   "cell_type": "code",
   "execution_count": null,
   "metadata": {},
   "outputs": [],
   "source": [
    "import itk\n",
    "from itkwidgets import view"
   ]
  },
  {
   "cell_type": "code",
   "execution_count": null,
   "metadata": {},
   "outputs": [],
   "source": [
    "#Reformat the numpy array into an itk matrix\n",
    "image = itk.GetImageFromArray(relabeled.astype(np.int16))\n",
    "view(image, slicing_planes=True)"
   ]
  },
  {
   "cell_type": "code",
   "execution_count": null,
   "metadata": {
    "scrolled": true
   },
   "outputs": [],
   "source": [
    "#Reading with itk\n",
    "input_filename=\"data/bead_pack_artifacts_small.tif\"\n",
    "image = itk.imread(input_filename)\n",
    "view(image, cmap='Cold and Hot', slicing_planes=True,gradient_opacity=0.4)"
   ]
  },
  {
   "cell_type": "code",
   "execution_count": null,
   "metadata": {},
   "outputs": [],
   "source": [
    "#convert to nnumpy array\n",
    "image_np = itk.GetArrayFromImage(image)\n",
    "print(f\"* Data shape: {image_np.shape}\")\n",
    "print(f\"* Data type:  {image_np.dtype}\")\n",
    "print(f\"* Data range: ({image_np.min()}, {image_np.max()})\")"
   ]
  },
  {
   "cell_type": "markdown",
   "metadata": {},
   "source": [
    "## Data reduction using slicing\n",
    "- The syntax ::2 easily extract the elements of a list that have even indexes; in other words, you will retrieve every other slice"
   ]
  },
  {
   "cell_type": "code",
   "execution_count": null,
   "metadata": {},
   "outputs": [],
   "source": [
    "from skimage.filters import threshold_isodata\n",
    "image_np=image_np[::2,::2,::2]\n",
    "image_np = image_np>threshold_isodata(image_np)\n",
    "image_itk = itk.GetImageFromArray(image_np.astype(np.int16))\n",
    "view(image_itk, cmap='Cold and Hot',rotate=True, gradient_opacity=0.4)"
   ]
  },
  {
   "cell_type": "markdown",
   "metadata": {},
   "source": [
    "## Exercise 2. \n",
    "- Explore the parameters in `view` and select roi\n",
    "- Visualize another dataset, e.g. data/mriBrain.tif"
   ]
  },
  {
   "cell_type": "code",
   "execution_count": null,
   "metadata": {},
   "outputs": [],
   "source": [
    "# This image has anisotropic spacing\n",
    "\n",
    "input_filename=\"data/mriBrain.tif\"\n",
    "image = itk.imread(input_filename)\n",
    "view(image, cmap='Cold and Hot', slicing_planes=True,gradient_opacity=0.4)"
   ]
  },
  {
   "cell_type": "code",
   "execution_count": null,
   "metadata": {},
   "outputs": [],
   "source": [
    "print(image.GetSpacing())\n",
    "image.SetSpacing([1,1,5])\n",
    "print(image.GetSpacing())\n",
    "view(image, cmap='Cold and Hot', slicing_planes=True,gradient_opacity=0.4)"
   ]
  },
  {
   "cell_type": "code",
   "execution_count": null,
   "metadata": {},
   "outputs": [],
   "source": [
    "#view(image, cmap='Cold and Hot', slicing_planes=True,gradient_opacity=0.4)"
   ]
  },
  {
   "cell_type": "markdown",
   "metadata": {},
   "source": [
    "## Going beyond\n",
    "\n",
    "[1] Segmentation of 3-D tomography images with Python: http://emmanuelle.github.io/segmentation-of-3-d-tomography-images-with-python-and-scikit-image.html\n",
    "\n",
    "[2] ITKwidgets examples: https://github.com/InsightSoftwareConsortium/itkwidgets/tree/master/examples\n",
    "\n",
    "[3] Image processing with Dask arrays: https://dask-image.readthedocs.io/en/latest/"
   ]
  },
  {
   "cell_type": "code",
   "execution_count": null,
   "metadata": {},
   "outputs": [],
   "source": []
  }
 ],
 "metadata": {
  "kernelspec": {
   "display_name": "Python 3",
   "language": "python",
   "name": "python3"
  },
  "language_info": {
   "codemirror_mode": {
    "name": "ipython",
    "version": 3
   },
   "file_extension": ".py",
   "mimetype": "text/x-python",
   "name": "python",
   "nbconvert_exporter": "python",
   "pygments_lexer": "ipython3",
   "version": "3.7.3"
  }
 },
 "nbformat": 4,
 "nbformat_minor": 2
}
